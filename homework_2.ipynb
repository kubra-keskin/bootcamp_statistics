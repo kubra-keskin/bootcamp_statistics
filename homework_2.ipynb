{
 "cells": [
  {
   "cell_type": "markdown",
   "metadata": {},
   "source": [
    "### 1.A şirketinin sattığı bilgisayarın bazılarının bozuk olduğu tespit edilmiştir. Bilgisyar üreten 3 şirket (A, B ve C) olduğunu varsayımı altında, bu şirketlerin bilgisayar üretim miktarı ve bozuk üretim olasılıkları şu şekildedir:\n",
    "\n",
    "### Toplam Üretim Yüzdesi P(A)=0.40 P(B)=0.40 P(C)=0.20\n",
    "\n",
    "### Hatalı Üretim Olasılığı\n",
    "\n",
    "### P(D|A)=0.015 P(D|B)=0.020 P(D|C)=0.010\n",
    "\n",
    "### Rastgele seçilen bir bozuk bir bilgisayarın B şirketi tarafından üretilme olasılığı nedir?"
   ]
  },
  {
   "cell_type": "code",
   "execution_count": null,
   "metadata": {},
   "outputs": [],
   "source": []
  },
  {
   "cell_type": "markdown",
   "metadata": {},
   "source": [
    "#### P(B|H) = P(B)*P(D|B)/P(H) \n",
    "\n",
    "#### P(B)*P(D|B)/P(H) =(0.40*0.020)/(0.4*0.015+0.4*0.02+0.2*0.01)\n",
    "\n",
    "#### P(B)*P(D|B)/P(H)=0.5 \n",
    "\n",
    "#### Rastgele seçilen bir bozuk bir bilgisayarın B şirketi tarafından üretilme olasılığı %50 dir."
   ]
  },
  {
   "cell_type": "code",
   "execution_count": null,
   "metadata": {},
   "outputs": [],
   "source": []
  }
 ],
 "metadata": {
  "kernelspec": {
   "display_name": "Python 3",
   "language": "python",
   "name": "python3"
  },
  "language_info": {
   "codemirror_mode": {
    "name": "ipython",
    "version": 3
   },
   "file_extension": ".py",
   "mimetype": "text/x-python",
   "name": "python",
   "nbconvert_exporter": "python",
   "pygments_lexer": "ipython3",
   "version": "3.8.3"
  }
 },
 "nbformat": 4,
 "nbformat_minor": 4
}
